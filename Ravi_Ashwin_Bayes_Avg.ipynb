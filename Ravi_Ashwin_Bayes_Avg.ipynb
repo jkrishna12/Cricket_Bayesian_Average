{
 "cells": [
  {
   "cell_type": "markdown",
   "id": "8058b1b6",
   "metadata": {},
   "source": [
    "# Ravichandran Ashwin Bayesian Average"
   ]
  },
  {
   "cell_type": "markdown",
   "id": "2b90de22",
   "metadata": {},
   "source": [
    "Import the necessary libraries"
   ]
  },
  {
   "cell_type": "code",
   "execution_count": 1,
   "id": "c6b68395",
   "metadata": {},
   "outputs": [],
   "source": [
    "from bs4 import BeautifulSoup\n",
    "import requests\n",
    "import pandas as pd\n",
    "import numpy as np\n",
    "import matplotlib.pyplot as plt\n",
    "import seaborn as sns\n",
    "from matplotlib import animation\n",
    "import warnings\n",
    "warnings.filterwarnings('ignore')\n",
    "import arviz"
   ]
  },
  {
   "cell_type": "markdown",
   "id": "42cacbb6",
   "metadata": {},
   "source": [
    "Will be scraping the data from ESPN Cricinfo's website"
   ]
  },
  {
   "cell_type": "code",
   "execution_count": 2,
   "id": "5f8ae7c9",
   "metadata": {},
   "outputs": [
    {
     "data": {
      "text/plain": [
       "True"
      ]
     },
     "execution_count": 2,
     "metadata": {},
     "output_type": "execute_result"
    }
   ],
   "source": [
    "url = 'https://stats.espncricinfo.com/ci/engine/player/26421.html?class=1;template=results;type=bowling;view=innings'\n",
    "r = requests.get(url)\n",
    "r.ok"
   ]
  },
  {
   "cell_type": "code",
   "execution_count": 3,
   "id": "edfe1588",
   "metadata": {},
   "outputs": [],
   "source": [
    "def player_list_dict_init():\n",
    "    \"\"\"Function returns a dictionary with the column names from the website\"\"\"\n",
    "    player_list_dict = {'Overs':[],'Mdns':[],'Runs':[],'Wkts':[],'Econ':[],'Pos':[],'Inns':[],'Opp':[],'Ground':[],'Date':[],'#':[]}\n",
    "    return player_list_dict"
   ]
  },
  {
   "cell_type": "code",
   "execution_count": 4,
   "id": "4183ffc7",
   "metadata": {},
   "outputs": [],
   "source": [
    "def player_df_init(url, **dictionary):\n",
    "    \"\"\"Function returns a dataframe of the scraped data. Takes in the url of the website and an empty dictionary\"\"\"\n",
    "    r = requests.get(url)\n",
    "    soup = BeautifulSoup(r.text, \"html.parser\")\n",
    "    tables = soup.find_all('table',{'class':'engineTable'})\n",
    "    table = tables[3]\n",
    "    rows = table.find_all('tr')\n",
    "    for col in rows:\n",
    "        elements = col.find_all('td')\n",
    "        if elements != []:\n",
    "            dictionary['Overs'].append(elements[0].text.strip())\n",
    "            dictionary['Mdns'].append(elements[1].text.strip())\n",
    "            dictionary['Runs'].append(elements[2].text.strip())\n",
    "            dictionary['Wkts'].append(elements[3].text.strip())\n",
    "            dictionary['Econ'].append(elements[4].text.strip())\n",
    "            dictionary['Pos'].append(elements[5].text.strip())\n",
    "            dictionary['Inns'].append(elements[6].text.strip())\n",
    "            dictionary['Opp'].append(elements[8].text.strip())\n",
    "            dictionary['Ground'].append(elements[9].text.strip())\n",
    "            dictionary['Date'].append(elements[10].text.strip())\n",
    "            dictionary['#'].append(elements[11].text.strip())\n",
    "    \n",
    "    df = pd.DataFrame(dictionary)\n",
    "    return df"
   ]
  },
  {
   "cell_type": "markdown",
   "id": "f3aca431",
   "metadata": {},
   "source": [
    "Create an empty dictionary called bowl_dict where the values will be appended to"
   ]
  },
  {
   "cell_type": "code",
   "execution_count": 5,
   "id": "f7158706",
   "metadata": {},
   "outputs": [],
   "source": [
    "bowl_dict = player_list_dict_init() "
   ]
  },
  {
   "cell_type": "markdown",
   "id": "a323f527",
   "metadata": {},
   "source": [
    "Initialising a Pandas Dataframe using the function"
   ]
  },
  {
   "cell_type": "code",
   "execution_count": 6,
   "id": "aebb6609",
   "metadata": {
    "scrolled": true
   },
   "outputs": [
    {
     "data": {
      "text/html": [
       "<div>\n",
       "<style scoped>\n",
       "    .dataframe tbody tr th:only-of-type {\n",
       "        vertical-align: middle;\n",
       "    }\n",
       "\n",
       "    .dataframe tbody tr th {\n",
       "        vertical-align: top;\n",
       "    }\n",
       "\n",
       "    .dataframe thead th {\n",
       "        text-align: right;\n",
       "    }\n",
       "</style>\n",
       "<table border=\"1\" class=\"dataframe\">\n",
       "  <thead>\n",
       "    <tr style=\"text-align: right;\">\n",
       "      <th></th>\n",
       "      <th>Overs</th>\n",
       "      <th>Mdns</th>\n",
       "      <th>Runs</th>\n",
       "      <th>Wkts</th>\n",
       "      <th>Econ</th>\n",
       "      <th>Pos</th>\n",
       "      <th>Inns</th>\n",
       "      <th>Opp</th>\n",
       "      <th>Ground</th>\n",
       "      <th>Date</th>\n",
       "      <th>#</th>\n",
       "    </tr>\n",
       "  </thead>\n",
       "  <tbody>\n",
       "    <tr>\n",
       "      <th>0</th>\n",
       "      <td>27.0</td>\n",
       "      <td>4</td>\n",
       "      <td>81</td>\n",
       "      <td>3</td>\n",
       "      <td>3.00</td>\n",
       "      <td>4</td>\n",
       "      <td>1</td>\n",
       "      <td>v West Indies</td>\n",
       "      <td>Delhi</td>\n",
       "      <td>6 Nov 2011</td>\n",
       "      <td>Test # 2015</td>\n",
       "    </tr>\n",
       "    <tr>\n",
       "      <th>1</th>\n",
       "      <td>21.3</td>\n",
       "      <td>5</td>\n",
       "      <td>47</td>\n",
       "      <td>6</td>\n",
       "      <td>2.18</td>\n",
       "      <td>2</td>\n",
       "      <td>3</td>\n",
       "      <td>v West Indies</td>\n",
       "      <td>Delhi</td>\n",
       "      <td>6 Nov 2011</td>\n",
       "      <td>Test # 2015</td>\n",
       "    </tr>\n",
       "    <tr>\n",
       "      <th>2</th>\n",
       "      <td>14.0</td>\n",
       "      <td>3</td>\n",
       "      <td>49</td>\n",
       "      <td>2</td>\n",
       "      <td>3.50</td>\n",
       "      <td>3</td>\n",
       "      <td>2</td>\n",
       "      <td>v West Indies</td>\n",
       "      <td>Eden Gardens</td>\n",
       "      <td>14 Nov 2011</td>\n",
       "      <td>Test # 2017</td>\n",
       "    </tr>\n",
       "    <tr>\n",
       "      <th>3</th>\n",
       "      <td>40.0</td>\n",
       "      <td>4</td>\n",
       "      <td>137</td>\n",
       "      <td>2</td>\n",
       "      <td>3.42</td>\n",
       "      <td>4</td>\n",
       "      <td>3</td>\n",
       "      <td>v West Indies</td>\n",
       "      <td>Eden Gardens</td>\n",
       "      <td>14 Nov 2011</td>\n",
       "      <td>Test # 2017</td>\n",
       "    </tr>\n",
       "    <tr>\n",
       "      <th>4</th>\n",
       "      <td>52.1</td>\n",
       "      <td>6</td>\n",
       "      <td>156</td>\n",
       "      <td>5</td>\n",
       "      <td>2.99</td>\n",
       "      <td>4</td>\n",
       "      <td>1</td>\n",
       "      <td>v West Indies</td>\n",
       "      <td>Wankhede</td>\n",
       "      <td>22 Nov 2011</td>\n",
       "      <td>Test # 2019</td>\n",
       "    </tr>\n",
       "  </tbody>\n",
       "</table>\n",
       "</div>"
      ],
      "text/plain": [
       "  Overs Mdns Runs Wkts  Econ Pos Inns            Opp        Ground  \\\n",
       "0  27.0    4   81    3  3.00   4    1  v West Indies         Delhi   \n",
       "1  21.3    5   47    6  2.18   2    3  v West Indies         Delhi   \n",
       "2  14.0    3   49    2  3.50   3    2  v West Indies  Eden Gardens   \n",
       "3  40.0    4  137    2  3.42   4    3  v West Indies  Eden Gardens   \n",
       "4  52.1    6  156    5  2.99   4    1  v West Indies      Wankhede   \n",
       "\n",
       "          Date            #  \n",
       "0   6 Nov 2011  Test # 2015  \n",
       "1   6 Nov 2011  Test # 2015  \n",
       "2  14 Nov 2011  Test # 2017  \n",
       "3  14 Nov 2011  Test # 2017  \n",
       "4  22 Nov 2011  Test # 2019  "
      ]
     },
     "execution_count": 6,
     "metadata": {},
     "output_type": "execute_result"
    }
   ],
   "source": [
    "df = player_df_init(url, **bowl_dict)\n",
    "df.head()"
   ]
  },
  {
   "cell_type": "markdown",
   "id": "de03b849",
   "metadata": {},
   "source": [
    "## Data Cleaning"
   ]
  },
  {
   "cell_type": "markdown",
   "id": "647c8329",
   "metadata": {},
   "source": [
    "Begin by extracting the necessary columns. Will also create an additional column based on the innings"
   ]
  },
  {
   "cell_type": "code",
   "execution_count": 7,
   "id": "8aeadf03",
   "metadata": {},
   "outputs": [
    {
     "data": {
      "text/html": [
       "<div>\n",
       "<style scoped>\n",
       "    .dataframe tbody tr th:only-of-type {\n",
       "        vertical-align: middle;\n",
       "    }\n",
       "\n",
       "    .dataframe tbody tr th {\n",
       "        vertical-align: top;\n",
       "    }\n",
       "\n",
       "    .dataframe thead th {\n",
       "        text-align: right;\n",
       "    }\n",
       "</style>\n",
       "<table border=\"1\" class=\"dataframe\">\n",
       "  <thead>\n",
       "    <tr style=\"text-align: right;\">\n",
       "      <th></th>\n",
       "      <th>Overs</th>\n",
       "      <th>Runs</th>\n",
       "      <th>Wkts</th>\n",
       "      <th>Inns</th>\n",
       "    </tr>\n",
       "  </thead>\n",
       "  <tbody>\n",
       "    <tr>\n",
       "      <th>0</th>\n",
       "      <td>27.0</td>\n",
       "      <td>81</td>\n",
       "      <td>3</td>\n",
       "      <td>1</td>\n",
       "    </tr>\n",
       "    <tr>\n",
       "      <th>1</th>\n",
       "      <td>21.3</td>\n",
       "      <td>47</td>\n",
       "      <td>6</td>\n",
       "      <td>2</td>\n",
       "    </tr>\n",
       "    <tr>\n",
       "      <th>2</th>\n",
       "      <td>14.0</td>\n",
       "      <td>49</td>\n",
       "      <td>2</td>\n",
       "      <td>3</td>\n",
       "    </tr>\n",
       "    <tr>\n",
       "      <th>3</th>\n",
       "      <td>40.0</td>\n",
       "      <td>137</td>\n",
       "      <td>2</td>\n",
       "      <td>4</td>\n",
       "    </tr>\n",
       "    <tr>\n",
       "      <th>4</th>\n",
       "      <td>52.1</td>\n",
       "      <td>156</td>\n",
       "      <td>5</td>\n",
       "      <td>5</td>\n",
       "    </tr>\n",
       "  </tbody>\n",
       "</table>\n",
       "</div>"
      ],
      "text/plain": [
       "  Overs Runs Wkts  Inns\n",
       "0  27.0   81    3     1\n",
       "1  21.3   47    6     2\n",
       "2  14.0   49    2     3\n",
       "3  40.0  137    2     4\n",
       "4  52.1  156    5     5"
      ]
     },
     "execution_count": 7,
     "metadata": {},
     "output_type": "execute_result"
    }
   ],
   "source": [
    "df_rel = df[['Overs','Runs','Wkts']]\n",
    "df_rel['Inns'] = df_rel.index + 1\n",
    "df_rel.head()"
   ]
  },
  {
   "cell_type": "markdown",
   "id": "5503dde0",
   "metadata": {},
   "source": [
    "Will now drop the rows where the player/ team didn't bowl or where the player was a sub and didn't bowl"
   ]
  },
  {
   "cell_type": "code",
   "execution_count": 8,
   "id": "17c06095",
   "metadata": {},
   "outputs": [
    {
     "data": {
      "text/html": [
       "<div>\n",
       "<style scoped>\n",
       "    .dataframe tbody tr th:only-of-type {\n",
       "        vertical-align: middle;\n",
       "    }\n",
       "\n",
       "    .dataframe tbody tr th {\n",
       "        vertical-align: top;\n",
       "    }\n",
       "\n",
       "    .dataframe thead th {\n",
       "        text-align: right;\n",
       "    }\n",
       "</style>\n",
       "<table border=\"1\" class=\"dataframe\">\n",
       "  <thead>\n",
       "    <tr style=\"text-align: right;\">\n",
       "      <th></th>\n",
       "      <th>Overs</th>\n",
       "      <th>Runs</th>\n",
       "      <th>Wkts</th>\n",
       "      <th>Inns</th>\n",
       "    </tr>\n",
       "  </thead>\n",
       "  <tbody>\n",
       "    <tr>\n",
       "      <th>0</th>\n",
       "      <td>27.0</td>\n",
       "      <td>81</td>\n",
       "      <td>3</td>\n",
       "      <td>1</td>\n",
       "    </tr>\n",
       "    <tr>\n",
       "      <th>1</th>\n",
       "      <td>21.3</td>\n",
       "      <td>47</td>\n",
       "      <td>6</td>\n",
       "      <td>2</td>\n",
       "    </tr>\n",
       "    <tr>\n",
       "      <th>2</th>\n",
       "      <td>14.0</td>\n",
       "      <td>49</td>\n",
       "      <td>2</td>\n",
       "      <td>3</td>\n",
       "    </tr>\n",
       "    <tr>\n",
       "      <th>3</th>\n",
       "      <td>40.0</td>\n",
       "      <td>137</td>\n",
       "      <td>2</td>\n",
       "      <td>4</td>\n",
       "    </tr>\n",
       "    <tr>\n",
       "      <th>4</th>\n",
       "      <td>52.1</td>\n",
       "      <td>156</td>\n",
       "      <td>5</td>\n",
       "      <td>5</td>\n",
       "    </tr>\n",
       "  </tbody>\n",
       "</table>\n",
       "</div>"
      ],
      "text/plain": [
       "  Overs Runs Wkts  Inns\n",
       "0  27.0   81    3     1\n",
       "1  21.3   47    6     2\n",
       "2  14.0   49    2     3\n",
       "3  40.0  137    2     4\n",
       "4  52.1  156    5     5"
      ]
     },
     "execution_count": 8,
     "metadata": {},
     "output_type": "execute_result"
    }
   ],
   "source": [
    "#dropping rows where player DNB\n",
    "row_drop1 = df_rel[df_rel['Overs'] == 'DNB'].index\n",
    "df_rel = df_rel.drop(index = row_drop1, axis = 0)\n",
    "#dropping rows where team didn't ball TDNB\n",
    "row_drop2 = df_rel[df_rel['Overs'] == 'TDNB'].index\n",
    "df_rel = df_rel.drop(index = row_drop2, axis = 0)\n",
    "#dropping rows where player was sub\n",
    "row_drop3 = df_rel[df_rel['Overs'] == 'sub'].index\n",
    "df_drop = df_rel.drop(index = row_drop3, axis = 0)\n",
    "df_drop.head()"
   ]
  },
  {
   "cell_type": "markdown",
   "id": "5fbc5568",
   "metadata": {},
   "source": [
    "Make the Runs and Wickets columns integer variables to allow further calculation. This means a running total can be calculated for the runs and wickets column"
   ]
  },
  {
   "cell_type": "code",
   "execution_count": 9,
   "id": "998da61a",
   "metadata": {},
   "outputs": [
    {
     "data": {
      "text/html": [
       "<div>\n",
       "<style scoped>\n",
       "    .dataframe tbody tr th:only-of-type {\n",
       "        vertical-align: middle;\n",
       "    }\n",
       "\n",
       "    .dataframe tbody tr th {\n",
       "        vertical-align: top;\n",
       "    }\n",
       "\n",
       "    .dataframe thead th {\n",
       "        text-align: right;\n",
       "    }\n",
       "</style>\n",
       "<table border=\"1\" class=\"dataframe\">\n",
       "  <thead>\n",
       "    <tr style=\"text-align: right;\">\n",
       "      <th></th>\n",
       "      <th>Runs</th>\n",
       "      <th>Wkts</th>\n",
       "      <th>Inns</th>\n",
       "      <th>cum_run</th>\n",
       "      <th>cum_wkt</th>\n",
       "      <th>ave_roll</th>\n",
       "      <th>ave_match</th>\n",
       "    </tr>\n",
       "  </thead>\n",
       "  <tbody>\n",
       "    <tr>\n",
       "      <th>0</th>\n",
       "      <td>81</td>\n",
       "      <td>3</td>\n",
       "      <td>1</td>\n",
       "      <td>81</td>\n",
       "      <td>3</td>\n",
       "      <td>27.000000</td>\n",
       "      <td>27.000000</td>\n",
       "    </tr>\n",
       "    <tr>\n",
       "      <th>1</th>\n",
       "      <td>47</td>\n",
       "      <td>6</td>\n",
       "      <td>2</td>\n",
       "      <td>128</td>\n",
       "      <td>9</td>\n",
       "      <td>14.222222</td>\n",
       "      <td>7.833333</td>\n",
       "    </tr>\n",
       "    <tr>\n",
       "      <th>2</th>\n",
       "      <td>49</td>\n",
       "      <td>2</td>\n",
       "      <td>3</td>\n",
       "      <td>177</td>\n",
       "      <td>11</td>\n",
       "      <td>16.090909</td>\n",
       "      <td>24.500000</td>\n",
       "    </tr>\n",
       "    <tr>\n",
       "      <th>3</th>\n",
       "      <td>137</td>\n",
       "      <td>2</td>\n",
       "      <td>4</td>\n",
       "      <td>314</td>\n",
       "      <td>13</td>\n",
       "      <td>24.153846</td>\n",
       "      <td>68.500000</td>\n",
       "    </tr>\n",
       "    <tr>\n",
       "      <th>4</th>\n",
       "      <td>156</td>\n",
       "      <td>5</td>\n",
       "      <td>5</td>\n",
       "      <td>470</td>\n",
       "      <td>18</td>\n",
       "      <td>26.111111</td>\n",
       "      <td>31.200000</td>\n",
       "    </tr>\n",
       "  </tbody>\n",
       "</table>\n",
       "</div>"
      ],
      "text/plain": [
       "   Runs  Wkts  Inns  cum_run  cum_wkt   ave_roll  ave_match\n",
       "0    81     3     1       81        3  27.000000  27.000000\n",
       "1    47     6     2      128        9  14.222222   7.833333\n",
       "2    49     2     3      177       11  16.090909  24.500000\n",
       "3   137     2     4      314       13  24.153846  68.500000\n",
       "4   156     5     5      470       18  26.111111  31.200000"
      ]
     },
     "execution_count": 9,
     "metadata": {},
     "output_type": "execute_result"
    }
   ],
   "source": [
    "# converting Runs and Wkts to integer data type\n",
    "df_drop['Runs'] = df_drop['Runs'].astype(int)\n",
    "df_drop['Wkts'] = df_drop['Wkts'].astype(int)\n",
    "\n",
    "# calculating the cumulative runs and wickets\n",
    "df_drop['cum_run'] = df_drop['Runs'].cumsum()\n",
    "df_drop['cum_wkt'] = df_drop['Wkts'].cumsum()\n",
    "\n",
    "# calculating the rolling average and the average for the bowler in each match \n",
    "df_drop['ave_roll'] = df_drop['cum_run'] / df_drop['cum_wkt']\n",
    "df_drop['ave_match'] = df_drop['Runs'] / df_drop['Wkts']\n",
    "\n",
    "# selecting the necessary columns\n",
    "stats = df_drop[['Runs','Wkts','Inns','cum_run','cum_wkt','ave_roll','ave_match']]\n",
    "\n",
    "# drop the rows where the number of Wickets is 0\n",
    "row_drop = stats[stats['Wkts'] == 0].index\n",
    "stats = stats.drop(index = row_drop, axis = 0)\n",
    "stats = stats.reset_index(drop = True)\n",
    "stats.head()"
   ]
  },
  {
   "cell_type": "code",
   "execution_count": 10,
   "id": "4f20cbbb",
   "metadata": {},
   "outputs": [],
   "source": [
    "def ave_var(df, col_name):\n",
    "    \"\"\"Takes in a dataframe and the column name. It then outputs an array where the variance is calculated \n",
    "    from the 0th to i'th record\"\"\"\n",
    "    size = len(df)\n",
    "    var_arr = np.zeros(size)\n",
    "    for i in range(size):\n",
    "        var_arr[i] = np.var(df.loc[0:i,col_name])\n",
    "    return var_arr"
   ]
  },
  {
   "cell_type": "code",
   "execution_count": 11,
   "id": "18b334ab",
   "metadata": {},
   "outputs": [],
   "source": [
    "# calculating the variance for the ave_match column\n",
    "stats['ave_var'] = ave_var(stats, 'ave_match')"
   ]
  },
  {
   "cell_type": "code",
   "execution_count": 12,
   "id": "ee7c643b",
   "metadata": {},
   "outputs": [
    {
     "data": {
      "text/html": [
       "<div>\n",
       "<style scoped>\n",
       "    .dataframe tbody tr th:only-of-type {\n",
       "        vertical-align: middle;\n",
       "    }\n",
       "\n",
       "    .dataframe tbody tr th {\n",
       "        vertical-align: top;\n",
       "    }\n",
       "\n",
       "    .dataframe thead th {\n",
       "        text-align: right;\n",
       "    }\n",
       "</style>\n",
       "<table border=\"1\" class=\"dataframe\">\n",
       "  <thead>\n",
       "    <tr style=\"text-align: right;\">\n",
       "      <th></th>\n",
       "      <th>Runs</th>\n",
       "      <th>Wkts</th>\n",
       "      <th>Inns</th>\n",
       "      <th>cum_run</th>\n",
       "      <th>cum_wkt</th>\n",
       "      <th>ave_roll</th>\n",
       "      <th>ave_match</th>\n",
       "      <th>ave_var</th>\n",
       "    </tr>\n",
       "  </thead>\n",
       "  <tbody>\n",
       "    <tr>\n",
       "      <th>0</th>\n",
       "      <td>81</td>\n",
       "      <td>3</td>\n",
       "      <td>1</td>\n",
       "      <td>81</td>\n",
       "      <td>3</td>\n",
       "      <td>27.000000</td>\n",
       "      <td>27.000000</td>\n",
       "      <td>0.000000</td>\n",
       "    </tr>\n",
       "    <tr>\n",
       "      <th>1</th>\n",
       "      <td>47</td>\n",
       "      <td>6</td>\n",
       "      <td>2</td>\n",
       "      <td>128</td>\n",
       "      <td>9</td>\n",
       "      <td>14.222222</td>\n",
       "      <td>7.833333</td>\n",
       "      <td>91.840278</td>\n",
       "    </tr>\n",
       "    <tr>\n",
       "      <th>2</th>\n",
       "      <td>49</td>\n",
       "      <td>2</td>\n",
       "      <td>3</td>\n",
       "      <td>177</td>\n",
       "      <td>11</td>\n",
       "      <td>16.090909</td>\n",
       "      <td>24.500000</td>\n",
       "      <td>72.376543</td>\n",
       "    </tr>\n",
       "    <tr>\n",
       "      <th>3</th>\n",
       "      <td>137</td>\n",
       "      <td>2</td>\n",
       "      <td>4</td>\n",
       "      <td>314</td>\n",
       "      <td>13</td>\n",
       "      <td>24.153846</td>\n",
       "      <td>68.500000</td>\n",
       "      <td>499.380208</td>\n",
       "    </tr>\n",
       "    <tr>\n",
       "      <th>4</th>\n",
       "      <td>156</td>\n",
       "      <td>5</td>\n",
       "      <td>5</td>\n",
       "      <td>470</td>\n",
       "      <td>18</td>\n",
       "      <td>26.111111</td>\n",
       "      <td>31.200000</td>\n",
       "      <td>399.596178</td>\n",
       "    </tr>\n",
       "  </tbody>\n",
       "</table>\n",
       "</div>"
      ],
      "text/plain": [
       "   Runs  Wkts  Inns  cum_run  cum_wkt   ave_roll  ave_match     ave_var\n",
       "0    81     3     1       81        3  27.000000  27.000000    0.000000\n",
       "1    47     6     2      128        9  14.222222   7.833333   91.840278\n",
       "2    49     2     3      177       11  16.090909  24.500000   72.376543\n",
       "3   137     2     4      314       13  24.153846  68.500000  499.380208\n",
       "4   156     5     5      470       18  26.111111  31.200000  399.596178"
      ]
     },
     "execution_count": 12,
     "metadata": {},
     "output_type": "execute_result"
    }
   ],
   "source": [
    "stats.head()"
   ]
  },
  {
   "cell_type": "code",
   "execution_count": 13,
   "id": "6ac0b71f",
   "metadata": {},
   "outputs": [],
   "source": [
    "# calculating the standard error \n",
    "stats['std_err'] = (stats['ave_var'] / stats['Inns']) ** 0.5"
   ]
  },
  {
   "cell_type": "code",
   "execution_count": 14,
   "id": "bc185268",
   "metadata": {},
   "outputs": [
    {
     "data": {
      "text/html": [
       "<div>\n",
       "<style scoped>\n",
       "    .dataframe tbody tr th:only-of-type {\n",
       "        vertical-align: middle;\n",
       "    }\n",
       "\n",
       "    .dataframe tbody tr th {\n",
       "        vertical-align: top;\n",
       "    }\n",
       "\n",
       "    .dataframe thead th {\n",
       "        text-align: right;\n",
       "    }\n",
       "</style>\n",
       "<table border=\"1\" class=\"dataframe\">\n",
       "  <thead>\n",
       "    <tr style=\"text-align: right;\">\n",
       "      <th></th>\n",
       "      <th>Runs</th>\n",
       "      <th>Wkts</th>\n",
       "      <th>Inns</th>\n",
       "      <th>cum_run</th>\n",
       "      <th>cum_wkt</th>\n",
       "      <th>ave_roll</th>\n",
       "      <th>ave_match</th>\n",
       "      <th>ave_var</th>\n",
       "      <th>std_err</th>\n",
       "    </tr>\n",
       "  </thead>\n",
       "  <tbody>\n",
       "    <tr>\n",
       "      <th>0</th>\n",
       "      <td>47</td>\n",
       "      <td>6</td>\n",
       "      <td>2</td>\n",
       "      <td>128</td>\n",
       "      <td>9</td>\n",
       "      <td>14.222222</td>\n",
       "      <td>7.833333</td>\n",
       "      <td>91.840278</td>\n",
       "      <td>6.776440</td>\n",
       "    </tr>\n",
       "    <tr>\n",
       "      <th>1</th>\n",
       "      <td>49</td>\n",
       "      <td>2</td>\n",
       "      <td>3</td>\n",
       "      <td>177</td>\n",
       "      <td>11</td>\n",
       "      <td>16.090909</td>\n",
       "      <td>24.500000</td>\n",
       "      <td>72.376543</td>\n",
       "      <td>4.911773</td>\n",
       "    </tr>\n",
       "    <tr>\n",
       "      <th>2</th>\n",
       "      <td>137</td>\n",
       "      <td>2</td>\n",
       "      <td>4</td>\n",
       "      <td>314</td>\n",
       "      <td>13</td>\n",
       "      <td>24.153846</td>\n",
       "      <td>68.500000</td>\n",
       "      <td>499.380208</td>\n",
       "      <td>11.173408</td>\n",
       "    </tr>\n",
       "    <tr>\n",
       "      <th>3</th>\n",
       "      <td>156</td>\n",
       "      <td>5</td>\n",
       "      <td>5</td>\n",
       "      <td>470</td>\n",
       "      <td>18</td>\n",
       "      <td>26.111111</td>\n",
       "      <td>31.200000</td>\n",
       "      <td>399.596178</td>\n",
       "      <td>8.939756</td>\n",
       "    </tr>\n",
       "    <tr>\n",
       "      <th>4</th>\n",
       "      <td>34</td>\n",
       "      <td>4</td>\n",
       "      <td>6</td>\n",
       "      <td>504</td>\n",
       "      <td>22</td>\n",
       "      <td>22.909091</td>\n",
       "      <td>8.500000</td>\n",
       "      <td>408.441358</td>\n",
       "      <td>8.250670</td>\n",
       "    </tr>\n",
       "  </tbody>\n",
       "</table>\n",
       "</div>"
      ],
      "text/plain": [
       "   Runs  Wkts  Inns  cum_run  cum_wkt   ave_roll  ave_match     ave_var  \\\n",
       "0    47     6     2      128        9  14.222222   7.833333   91.840278   \n",
       "1    49     2     3      177       11  16.090909  24.500000   72.376543   \n",
       "2   137     2     4      314       13  24.153846  68.500000  499.380208   \n",
       "3   156     5     5      470       18  26.111111  31.200000  399.596178   \n",
       "4    34     4     6      504       22  22.909091   8.500000  408.441358   \n",
       "\n",
       "     std_err  \n",
       "0   6.776440  \n",
       "1   4.911773  \n",
       "2  11.173408  \n",
       "3   8.939756  \n",
       "4   8.250670  "
      ]
     },
     "execution_count": 14,
     "metadata": {},
     "output_type": "execute_result"
    }
   ],
   "source": [
    "# dropping the row where variance is 0 and resetting the index\n",
    "var_0_index = stats[stats['ave_var'] == 0].index\n",
    "stats_clean = stats.drop(index = var_0_index, axis = 0)\n",
    "stats_clean = stats_clean.reset_index(drop = True)\n",
    "stats_clean.head()"
   ]
  },
  {
   "cell_type": "code",
   "execution_count": 15,
   "id": "adc6154d",
   "metadata": {},
   "outputs": [],
   "source": [
    "# defining the prior mean and standard deviation\n",
    "prior_mean = 31.03\n",
    "prior_std = 6.52\n",
    "\n",
    "# defining the distribution size and and the prior distribution\n",
    "dist_size = 100000\n",
    "prior = np.random.normal(prior_mean, prior_std, size = dist_size)\n",
    "\n",
    "# creating a likelihood dataframe l_df selecting relevant columns\n",
    "l_df = stats_clean[['ave_var','ave_roll','std_err', 'Inns']]\n",
    "size = len(l_df)\n",
    "\n",
    "# creating an empty array to store the likelihood distribution \n",
    "l_array = np.zeros(shape = (size, dist_size))\n",
    "\n",
    "# creating the posterior dictionary to store the mean and standard deviation\n",
    "pos_dict_list = {'pos_mean':[],'pos_std':[]}\n",
    "\n",
    "# creating an empty array to store the posterior distribution \n",
    "pos_array = np.zeros(shape = (size, dist_size))"
   ]
  },
  {
   "cell_type": "code",
   "execution_count": 16,
   "id": "c627aed9",
   "metadata": {},
   "outputs": [],
   "source": [
    "# creating a for loop to iterate through and calculate the posterior distribution after each innings\n",
    "\n",
    "for i in range(size):\n",
    "#   assigning the i'th likelihood variance, innings, rolling average, and standard error\n",
    "    l_var, l_n, l_avg, l_std_err = l_df.loc[i,'ave_var'], l_df.loc[i,'Inns'], l_df.loc[i,'ave_roll'], l_df.loc[i,'std_err']\n",
    "    \n",
    "#   calculating the i'th normal distribution\n",
    "    l_array[i] = np.random.normal(l_avg, l_std_err, size = dist_size)\n",
    "    \n",
    "#   calculating and appending the posterior mean and posterior standard deviation\n",
    "    pos_dict_list['pos_mean'].append(((prior_mean / (prior_std) ** 2) + ((l_n * l_avg) / l_var)) / (prior_std ** -2 + (l_n / l_var)))\n",
    "    pos_dict_list['pos_std'].append((prior_std ** (-2) + (l_n / l_var)) ** (-0.5))\n",
    "    \n",
    "#   calculating the i'th posterior distribution\n",
    "    pos_array[i] = np.random.normal(pos_dict_list['pos_mean'][i],pos_dict_list['pos_std'][i], size = dist_size)"
   ]
  },
  {
   "cell_type": "code",
   "execution_count": 17,
   "id": "c71363ea",
   "metadata": {},
   "outputs": [],
   "source": [
    "# making the posterior dictionary a dataframe\n",
    "pos_df = pd.DataFrame(pos_dict_list)"
   ]
  },
  {
   "cell_type": "code",
   "execution_count": 18,
   "id": "5f7ceba6",
   "metadata": {},
   "outputs": [
    {
     "data": {
      "text/html": [
       "<div>\n",
       "<style scoped>\n",
       "    .dataframe tbody tr th:only-of-type {\n",
       "        vertical-align: middle;\n",
       "    }\n",
       "\n",
       "    .dataframe tbody tr th {\n",
       "        vertical-align: top;\n",
       "    }\n",
       "\n",
       "    .dataframe thead th {\n",
       "        text-align: right;\n",
       "    }\n",
       "</style>\n",
       "<table border=\"1\" class=\"dataframe\">\n",
       "  <thead>\n",
       "    <tr style=\"text-align: right;\">\n",
       "      <th></th>\n",
       "      <th>pos_mean</th>\n",
       "      <th>pos_std</th>\n",
       "      <th>ave_var</th>\n",
       "      <th>ave_roll</th>\n",
       "      <th>std_err</th>\n",
       "      <th>Inns</th>\n",
       "      <th>ave_match</th>\n",
       "      <th>Runs</th>\n",
       "      <th>Wkts</th>\n",
       "    </tr>\n",
       "  </thead>\n",
       "  <tbody>\n",
       "    <tr>\n",
       "      <th>0</th>\n",
       "      <td>22.950152</td>\n",
       "      <td>4.698379</td>\n",
       "      <td>91.840278</td>\n",
       "      <td>14.222222</td>\n",
       "      <td>6.776440</td>\n",
       "      <td>2</td>\n",
       "      <td>7.833333</td>\n",
       "      <td>47</td>\n",
       "      <td>6</td>\n",
       "    </tr>\n",
       "    <tr>\n",
       "      <th>1</th>\n",
       "      <td>21.499603</td>\n",
       "      <td>3.923121</td>\n",
       "      <td>72.376543</td>\n",
       "      <td>16.090909</td>\n",
       "      <td>4.911773</td>\n",
       "      <td>3</td>\n",
       "      <td>24.500000</td>\n",
       "      <td>49</td>\n",
       "      <td>2</td>\n",
       "    </tr>\n",
       "    <tr>\n",
       "      <th>2</th>\n",
       "      <td>29.283370</td>\n",
       "      <td>5.631361</td>\n",
       "      <td>499.380208</td>\n",
       "      <td>24.153846</td>\n",
       "      <td>11.173408</td>\n",
       "      <td>4</td>\n",
       "      <td>68.500000</td>\n",
       "      <td>137</td>\n",
       "      <td>2</td>\n",
       "    </tr>\n",
       "    <tr>\n",
       "      <th>3</th>\n",
       "      <td>29.322048</td>\n",
       "      <td>5.267808</td>\n",
       "      <td>399.596178</td>\n",
       "      <td>26.111111</td>\n",
       "      <td>8.939756</td>\n",
       "      <td>5</td>\n",
       "      <td>31.200000</td>\n",
       "      <td>156</td>\n",
       "      <td>5</td>\n",
       "    </tr>\n",
       "    <tr>\n",
       "      <th>4</th>\n",
       "      <td>27.908181</td>\n",
       "      <td>5.115531</td>\n",
       "      <td>408.441358</td>\n",
       "      <td>22.909091</td>\n",
       "      <td>8.250670</td>\n",
       "      <td>6</td>\n",
       "      <td>8.500000</td>\n",
       "      <td>34</td>\n",
       "      <td>4</td>\n",
       "    </tr>\n",
       "  </tbody>\n",
       "</table>\n",
       "</div>"
      ],
      "text/plain": [
       "    pos_mean   pos_std     ave_var   ave_roll    std_err  Inns  ave_match  \\\n",
       "0  22.950152  4.698379   91.840278  14.222222   6.776440     2   7.833333   \n",
       "1  21.499603  3.923121   72.376543  16.090909   4.911773     3  24.500000   \n",
       "2  29.283370  5.631361  499.380208  24.153846  11.173408     4  68.500000   \n",
       "3  29.322048  5.267808  399.596178  26.111111   8.939756     5  31.200000   \n",
       "4  27.908181  5.115531  408.441358  22.909091   8.250670     6   8.500000   \n",
       "\n",
       "   Runs  Wkts  \n",
       "0    47     6  \n",
       "1    49     2  \n",
       "2   137     2  \n",
       "3   156     5  \n",
       "4    34     4  "
      ]
     },
     "execution_count": 18,
     "metadata": {},
     "output_type": "execute_result"
    }
   ],
   "source": [
    "# concatenating the posterior dataframe the likelihood dataframe and some columns of the relevant statistics dataframe\n",
    "df_concat = pd.concat([pos_df, l_df, stats_clean[['ave_match','Runs','Wkts']]], axis = 1) \n",
    "df_concat.head()"
   ]
  },
  {
   "cell_type": "code",
   "execution_count": 19,
   "id": "46b5746d",
   "metadata": {},
   "outputs": [],
   "source": [
    "from matplotlib import animation\n",
    "%matplotlib qt"
   ]
  },
  {
   "cell_type": "code",
   "execution_count": 20,
   "id": "ea3c8f6e",
   "metadata": {},
   "outputs": [],
   "source": [
    "# plots an animation of the prior likelihood posterior \n",
    "fig, ax1 = plt.subplots(1,1, figsize = (10,112))\n",
    "\n",
    "\n",
    "def animate(i):\n",
    "    ax1.cla()\n",
    "    ax1.set_xlim([0,50])\n",
    "    ax1.set_xlabel(\"Bowling Average\")\n",
    "    ax1.set_ylabel(\"Relative Probability\")\n",
    "    sns.kdeplot(l_array[i], label = 'Likelihood', shade = True, ax = ax1)\n",
    "    sns.kdeplot(pos_array[i], label = 'Posterior', shade = True, ax = ax1)\n",
    "    sns.kdeplot(prior, label = 'Prior', shade = True, ax = ax1)\n",
    "    ax1.set(title = \"Innings: \" +str(df_concat.loc[i,\"Inns\"]))\n",
    "    ax1.legend([\"Likelihood\",\"Posterior\",\"Prior\"])\n",
    "    \n",
    "anim = animation.FuncAnimation(fig, animate, frames = len(l_array), interval = 500)\n",
    "\n",
    "plt.show()"
   ]
  },
  {
   "cell_type": "code",
   "execution_count": 21,
   "id": "3295e8a6",
   "metadata": {},
   "outputs": [
    {
     "data": {
      "text/plain": [
       "array([21.09923978, 27.4412008 ])"
      ]
     },
     "execution_count": 21,
     "metadata": {},
     "output_type": "execute_result"
    }
   ],
   "source": [
    "# using arviz to calculate the 90% probability\n",
    "hpd = arviz.hdi(pos_array[-1], hdi_prob = 0.9)\n",
    "hpd"
   ]
  },
  {
   "cell_type": "code",
   "execution_count": 22,
   "id": "bf0a36bd",
   "metadata": {},
   "outputs": [
    {
     "data": {
      "text/plain": [
       "<AxesSubplot:title={'center':'x'}>"
      ]
     },
     "execution_count": 22,
     "metadata": {},
     "output_type": "execute_result"
    },
    {
     "data": {
      "image/png": "[encoded data removed]",
      "text/plain": [
       "<Figure size 432x288 with 1 Axes>"
      ]
     },
     "metadata": {
      "needs_background": "light"
     },
     "output_type": "display_data"
    }
   ],
   "source": [
    "# plotting the posterior distributions\n",
    "%matplotlib inline\n",
    "arviz.plot_posterior(pos_array[-1], hdi_prob = 0.9)"
   ]
  },
  {
   "cell_type": "code",
   "execution_count": 23,
   "id": "19b52b15",
   "metadata": {},
   "outputs": [
    {
     "name": "stdout",
     "output_type": "stream",
     "text": [
      "There is a 90% probability that Ravi Ashwin's average exists within 21.10 and 27.44. This results in a bayesian average of 24.30 with a standard error of 1.93\n"
     ]
    }
   ],
   "source": [
    "print(\"There is a 90% probability that Ravi Ashwin's average exists within {:.2f} and {:.2f}. This results in a bayesian average of {:.2f} with a standard error of {:.2f}\"\\\n",
    "     .format(round(hpd[0],2),round(hpd[1],2),round(pos_df['pos_mean'].iloc[-1],2), round(pos_df['pos_std'].iloc[-1],2)))"
   ]
  },
  {
   "cell_type": "markdown",
   "id": "7346684c",
   "metadata": {},
   "source": [
    "Based on these statistics we can say that Ashwin is a world class bowler. He does have a slightly higher standard error but even on the low end he is much better than the average bowler. However, being a spinner from the subcontinent means that he benefits from favourable conditions more often than not and if he played in SENA countries perhaps we would see a slightly higher average. Despite this Ravi Ashwin will likely end his career as a modern day great. "
   ]
  }
 ],
 "metadata": {
  "kernelspec": {
   "display_name": "Python 3 (ipykernel)",
   "language": "python",
   "name": "python3"
  },
  "language_info": {
   "codemirror_mode": {
    "name": "ipython",
    "version": 3
   },
   "file_extension": ".py",
   "mimetype": "text/x-python",
   "name": "python",
   "nbconvert_exporter": "python",
   "pygments_lexer": "ipython3",
   "version": "3.9.7"
  }
 },
 "nbformat": 4,
 "nbformat_minor": 5
}
